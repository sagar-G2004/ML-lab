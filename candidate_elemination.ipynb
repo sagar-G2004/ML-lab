{
 "cells": [
  {
   "cell_type": "code",
   "execution_count": 83,
   "id": "a75b4601-071a-4069-8162-15c477a4dd64",
   "metadata": {},
   "outputs": [],
   "source": [
    "data = [\n",
    "    [\"sunny\", \"hot\", \"high\", False, \"no\"],\n",
    "    [\"sunny\", \"hot\", \"high\", True, \"no\"],\n",
    "    [\"overcast\", \"hot\", \"high\", False, \"yes\"],\n",
    "    [\"rainy\", \"mild\", \"high\", False, \"yes\"],\n",
    "    [\"rainy\", \"cool\", \"normal\", False, \"yes\"],\n",
    "    [\"rainy\", \"cool\", \"normal\", True, \"no\"],\n",
    "    [\"overcast\", \"cool\", \"normal\", True, \"yes\"],\n",
    "    [\"sunny\", \"mild\", \"high\", False, \"no\"],\n",
    "    [\"sunny\", \"cool\", \"normal\", False, \"yes\"],\n",
    "    [\"rainy\", \"mild\", \"normal\", False, \"yes\"],\n",
    "    [\"sunny\", \"mild\", \"normal\", True, \"yes\"],\n",
    "    [\"overcast\", \"mild\", \"high\", True, \"yes\"],\n",
    "    [\"overcast\", \"hot\", \"normal\", False, \"yes\"],\n",
    "    [\"rainy\", \"mild\", \"high\", True, \"no\"]\n",
    "]"
   ]
  },
  {
   "cell_type": "code",
   "execution_count": 84,
   "id": "d8d53f1d-e253-45be-9a3e-801d683abd72",
   "metadata": {},
   "outputs": [],
   "source": [
    " import pandas as pd\n",
    " import numpy as np"
   ]
  },
  {
   "cell_type": "code",
   "execution_count": 85,
   "id": "2298e362-8c00-4494-ab6a-7e5c66ad84d3",
   "metadata": {},
   "outputs": [
    {
     "name": "stdout",
     "output_type": "stream",
     "text": [
      "[['sunny', 'hot', 'high', False, 'no'], ['sunny', 'hot', 'high', True, 'no'], ['overcast', 'hot', 'high', False, 'yes'], ['rainy', 'mild', 'high', False, 'yes'], ['rainy', 'cool', 'normal', False, 'yes'], ['rainy', 'cool', 'normal', True, 'no'], ['overcast', 'cool', 'normal', True, 'yes'], ['sunny', 'mild', 'high', False, 'no'], ['sunny', 'cool', 'normal', False, 'yes'], ['rainy', 'mild', 'normal', False, 'yes'], ['sunny', 'mild', 'normal', True, 'yes'], ['overcast', 'mild', 'high', True, 'yes'], ['overcast', 'hot', 'normal', False, 'yes'], ['rainy', 'mild', 'high', True, 'no']]\n"
     ]
    }
   ],
   "source": [
    "print(data)"
   ]
  },
  {
   "cell_type": "code",
   "execution_count": 86,
   "id": "8973bb94-552b-477a-916e-137c4c8a5f61",
   "metadata": {},
   "outputs": [
    {
     "name": "stdout",
     "output_type": "stream",
     "text": [
      "the\tattributes\tare:\t [['sunny' 'hot' 'high' 'False']\n",
      " ['sunny' 'hot' 'high' 'True']\n",
      " ['overcast' 'hot' 'high' 'False']\n",
      " ['rainy' 'mild' 'high' 'False']\n",
      " ['rainy' 'cool' 'normal' 'False']\n",
      " ['rainy' 'cool' 'normal' 'True']\n",
      " ['overcast' 'cool' 'normal' 'True']\n",
      " ['sunny' 'mild' 'high' 'False']\n",
      " ['sunny' 'cool' 'normal' 'False']\n",
      " ['rainy' 'mild' 'normal' 'False']\n",
      " ['sunny' 'mild' 'normal' 'True']\n",
      " ['overcast' 'mild' 'high' 'True']\n",
      " ['overcast' 'hot' 'normal' 'False']\n",
      " ['rainy' 'mild' 'high' 'True']]\n"
     ]
    }
   ],
   "source": [
    " d=np.array(data)[:,:-1]\n",
    " print(\"the\tattributes\tare:\t\",d)"
   ]
  },
  {
   "cell_type": "code",
   "execution_count": 87,
   "id": "015b81bc-49fa-4f3e-bd0d-5d399f76c9eb",
   "metadata": {},
   "outputs": [
    {
     "name": "stdout",
     "output_type": "stream",
     "text": [
      "the\ttarget\tis\t: ['no' 'no' 'yes' 'yes' 'yes' 'no' 'yes' 'no' 'yes' 'yes' 'yes' 'yes' 'yes'\n",
      " 'no']\n"
     ]
    }
   ],
   "source": [
    "target=\tnp.array(data)[:,-1]\n",
    "print(\"the\ttarget\tis\t:\",target)"
   ]
  },
  {
   "cell_type": "code",
   "execution_count": 88,
   "id": "e91f7d2d-71e2-4174-9392-a22c03ec3cff",
   "metadata": {},
   "outputs": [],
   "source": [
    "def candidate_elimination(data):\n",
    "    S = [\"Ø\"] * (len(data[0]) - 1)  # Most specific hypothesis (start with Ø)\n",
    "    G = [[\"?\"] * (len(data[0]) - 1)]  # Most general hypothesis (all '?')\n",
    "\n",
    "    for row in data:\n",
    "        attributes, label = row[:-1], row[-1]  # Split attributes and class label\n",
    "\n",
    "        if label == \"yes\":  # Positive example → Generalize S\n",
    "            for i in range(len(S)):\n",
    "                if S[i] == \"Ø\":\n",
    "                    S[i] = attributes[i]\n",
    "                elif S[i] != attributes[i]:\n",
    "                    S[i] = \"?\"\n",
    "            # Remove inconsistent hypotheses from G\n",
    "            G = [g for g in G if all(g[i] == \"?\" or g[i] == S[i] for i in range(len(S)))]\n",
    "\n",
    "        elif label == \"no\":  # Negative example → Specialize G\n",
    "            new_G = []\n",
    "            for g in G:\n",
    "                for i in range(len(g)):\n",
    "                    if g[i] == \"?\":\n",
    "                        if S[i] != \"?\":  # Only specialize attributes not yet generalized in S\n",
    "                            new_hypothesis = g[:]\n",
    "                            new_hypothesis[i] = S[i]\n",
    "                            new_G.append(new_hypothesis)\n",
    "            G = new_G\n",
    "\n",
    "    return S, G\n"
   ]
  },
  {
   "cell_type": "code",
   "execution_count": 89,
   "id": "f09cced4-609a-40b6-98ac-95d17aabeca2",
   "metadata": {},
   "outputs": [
    {
     "name": "stdout",
     "output_type": "stream",
     "text": [
      "Final S: ['?', '?', '?', '?']\n",
      "Final G: []\n"
     ]
    }
   ],
   "source": [
    "S_final, G_final = candidate_elimination(data)\n",
    "print(\"Final S:\", S_final)\n",
    "print(\"Final G:\", G_final)\n"
   ]
  },
  {
   "cell_type": "code",
   "execution_count": null,
   "id": "69fcdcc7-be08-446b-a90d-85ec4737c768",
   "metadata": {},
   "outputs": [],
   "source": []
  },
  {
   "cell_type": "code",
   "execution_count": null,
   "id": "fd1548df-1944-4082-8d1c-686a909a8035",
   "metadata": {},
   "outputs": [],
   "source": []
  }
 ],
 "metadata": {
  "kernelspec": {
   "display_name": "Python 3 (ipykernel)",
   "language": "python",
   "name": "python3"
  },
  "language_info": {
   "codemirror_mode": {
    "name": "ipython",
    "version": 3
   },
   "file_extension": ".py",
   "mimetype": "text/x-python",
   "name": "python",
   "nbconvert_exporter": "python",
   "pygments_lexer": "ipython3",
   "version": "3.11.7"
  }
 },
 "nbformat": 4,
 "nbformat_minor": 5
}
