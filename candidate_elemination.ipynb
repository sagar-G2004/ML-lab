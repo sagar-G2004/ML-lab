{
 "cells": [
  {
   "cell_type": "code",
   "execution_count": 46,
   "id": "a75b4601-071a-4069-8162-15c477a4dd64",
   "metadata": {},
   "outputs": [],
   "source": [
    "data = [\n",
    "    [\"sunny\", \"hot\", \"high\", False, \"no\"],\n",
    "    [\"sunny\", \"hot\", \"high\", True, \"no\"],\n",
    "    [\"overcast\", \"hot\", \"high\", False, \"yes\"],\n",
    "    [\"rainy\", \"mild\", \"high\", False, \"yes\"],\n",
    "    [\"rainy\", \"cool\", \"normal\", False, \"yes\"],\n",
    "    [\"rainy\", \"cool\", \"normal\", True, \"no\"],\n",
    "    [\"overcast\", \"cool\", \"normal\", True, \"yes\"],\n",
    "    [\"sunny\", \"mild\", \"high\", False, \"no\"],\n",
    "    [\"sunny\", \"cool\", \"normal\", False, \"yes\"],\n",
    "    [\"rainy\", \"mild\", \"normal\", False, \"yes\"],\n",
    "    [\"sunny\", \"mild\", \"normal\", True, \"yes\"],\n",
    "    [\"overcast\", \"mild\", \"high\", True, \"yes\"],\n",
    "    [\"overcast\", \"hot\", \"normal\", False, \"yes\"],\n",
    "    [\"rainy\", \"mild\", \"high\", True, \"no\"]\n",
    "]"
   ]
  },
  {
   "cell_type": "code",
   "execution_count": 47,
   "id": "d8d53f1d-e253-45be-9a3e-801d683abd72",
   "metadata": {},
   "outputs": [],
   "source": [
    " import pandas as pd\n",
    " import numpy as np"
   ]
  },
  {
   "cell_type": "code",
   "execution_count": 48,
   "id": "2298e362-8c00-4494-ab6a-7e5c66ad84d3",
   "metadata": {},
   "outputs": [
    {
     "name": "stdout",
     "output_type": "stream",
     "text": [
      "[['sunny', 'hot', 'high', False, 'no'], ['sunny', 'hot', 'high', True, 'no'], ['overcast', 'hot', 'high', False, 'yes'], ['rainy', 'mild', 'high', False, 'yes'], ['rainy', 'cool', 'normal', False, 'yes'], ['rainy', 'cool', 'normal', True, 'no'], ['overcast', 'cool', 'normal', True, 'yes'], ['sunny', 'mild', 'high', False, 'no'], ['sunny', 'cool', 'normal', False, 'yes'], ['rainy', 'mild', 'normal', False, 'yes'], ['sunny', 'mild', 'normal', True, 'yes'], ['overcast', 'mild', 'high', True, 'yes'], ['overcast', 'hot', 'normal', False, 'yes'], ['rainy', 'mild', 'high', True, 'no']]\n"
     ]
    }
   ],
   "source": [
    "print(data)"
   ]
  },
  {
   "cell_type": "code",
   "execution_count": 49,
   "id": "8973bb94-552b-477a-916e-137c4c8a5f61",
   "metadata": {},
   "outputs": [
    {
     "name": "stdout",
     "output_type": "stream",
     "text": [
      "the\tattributes\tare:\t [['sunny' 'hot' 'high' 'False']\n",
      " ['sunny' 'hot' 'high' 'True']\n",
      " ['overcast' 'hot' 'high' 'False']\n",
      " ['rainy' 'mild' 'high' 'False']\n",
      " ['rainy' 'cool' 'normal' 'False']\n",
      " ['rainy' 'cool' 'normal' 'True']\n",
      " ['overcast' 'cool' 'normal' 'True']\n",
      " ['sunny' 'mild' 'high' 'False']\n",
      " ['sunny' 'cool' 'normal' 'False']\n",
      " ['rainy' 'mild' 'normal' 'False']\n",
      " ['sunny' 'mild' 'normal' 'True']\n",
      " ['overcast' 'mild' 'high' 'True']\n",
      " ['overcast' 'hot' 'normal' 'False']\n",
      " ['rainy' 'mild' 'high' 'True']]\n"
     ]
    }
   ],
   "source": [
    " d=np.array(data)[:,:-1]\n",
    " print(\"the\tattributes\tare:\t\",d)"
   ]
  },
  {
   "cell_type": "code",
   "execution_count": 50,
   "id": "015b81bc-49fa-4f3e-bd0d-5d399f76c9eb",
   "metadata": {},
   "outputs": [
    {
     "name": "stdout",
     "output_type": "stream",
     "text": [
      "the\ttarget\tis\t: ['no' 'no' 'yes' 'yes' 'yes' 'no' 'yes' 'no' 'yes' 'yes' 'yes' 'yes' 'yes'\n",
      " 'no']\n"
     ]
    }
   ],
   "source": [
    "target=\tnp.array(data)[:,-1]\n",
    "print(\"the\ttarget\tis\t:\",target)"
   ]
  },
  {
   "cell_type": "code",
   "execution_count": 51,
   "id": "cb8f0898-86b9-4bbb-9934-436334e1fd44",
   "metadata": {},
   "outputs": [
    {
     "name": "stdout",
     "output_type": "stream",
     "text": [
      "Initialization of specific_h and general_h\n",
      "['sunny' 'hot' 'high' 'False']\n",
      "[['?', '?', '?', '?'], ['?', '?', '?', '?'], ['?', '?', '?', '?'], ['?', '?', '?', '?']]\n",
      "Steps of Candidate Elimination Algorithm 1\n",
      "['sunny' 'hot' 'high' 'False']\n",
      "[['?', '?', '?', '?'], ['?', '?', '?', '?'], ['?', '?', '?', '?'], ['?', '?', '?', '?']]\n",
      "Steps of Candidate Elimination Algorithm 2\n",
      "['sunny' 'hot' 'high' 'False']\n",
      "[['?', '?', '?', '?'], ['?', '?', '?', '?'], ['?', '?', '?', '?'], ['?', '?', '?', 'False']]\n",
      "Steps of Candidate Elimination Algorithm 3\n",
      "['?' 'hot' 'high' 'False']\n",
      "[['?', '?', '?', '?'], ['?', '?', '?', '?'], ['?', '?', '?', '?'], ['?', '?', '?', 'False']]\n",
      "Steps of Candidate Elimination Algorithm 4\n",
      "['?' '?' 'high' 'False']\n",
      "[['?', '?', '?', '?'], ['?', '?', '?', '?'], ['?', '?', '?', '?'], ['?', '?', '?', 'False']]\n",
      "Steps of Candidate Elimination Algorithm 5\n",
      "['?' '?' '?' 'False']\n",
      "[['?', '?', '?', '?'], ['?', '?', '?', '?'], ['?', '?', '?', '?'], ['?', '?', '?', 'False']]\n",
      "Steps of Candidate Elimination Algorithm 6\n",
      "['?' '?' '?' 'False']\n",
      "[['?', '?', '?', '?'], ['?', '?', '?', '?'], ['?', '?', '?', '?'], ['?', '?', '?', 'False']]\n",
      "Steps of Candidate Elimination Algorithm 7\n",
      "['?' '?' '?' '?']\n",
      "[['?', '?', '?', '?'], ['?', '?', '?', '?'], ['?', '?', '?', '?'], ['?', '?', '?', '?']]\n",
      "Steps of Candidate Elimination Algorithm 8\n",
      "['?' '?' '?' '?']\n",
      "[['?', '?', '?', '?'], ['?', '?', '?', '?'], ['?', '?', '?', '?'], ['?', '?', '?', '?']]\n",
      "Steps of Candidate Elimination Algorithm 9\n",
      "['?' '?' '?' '?']\n",
      "[['?', '?', '?', '?'], ['?', '?', '?', '?'], ['?', '?', '?', '?'], ['?', '?', '?', '?']]\n",
      "Steps of Candidate Elimination Algorithm 10\n",
      "['?' '?' '?' '?']\n",
      "[['?', '?', '?', '?'], ['?', '?', '?', '?'], ['?', '?', '?', '?'], ['?', '?', '?', '?']]\n",
      "Steps of Candidate Elimination Algorithm 11\n",
      "['?' '?' '?' '?']\n",
      "[['?', '?', '?', '?'], ['?', '?', '?', '?'], ['?', '?', '?', '?'], ['?', '?', '?', '?']]\n",
      "Steps of Candidate Elimination Algorithm 12\n",
      "['?' '?' '?' '?']\n",
      "[['?', '?', '?', '?'], ['?', '?', '?', '?'], ['?', '?', '?', '?'], ['?', '?', '?', '?']]\n",
      "Steps of Candidate Elimination Algorithm 13\n",
      "['?' '?' '?' '?']\n",
      "[['?', '?', '?', '?'], ['?', '?', '?', '?'], ['?', '?', '?', '?'], ['?', '?', '?', '?']]\n",
      "Steps of Candidate Elimination Algorithm 14\n",
      "['?' '?' '?' '?']\n",
      "[['?', '?', '?', '?'], ['?', '?', '?', '?'], ['?', '?', '?', '?'], ['?', '?', '?', '?']]\n",
      "Final Specific_h:\n",
      "['?' '?' '?' '?']\n",
      "Final General_h:\n",
      "[]\n"
     ]
    }
   ],
   "source": [
    "def learn(d, target):\n",
    "    specific_h = d[0].copy()\n",
    "    print(\"Initialization of specific_h and general_h\")\n",
    "    print(specific_h)\n",
    "\n",
    "    general_h = [[\"?\" for i in range(len(specific_h))] for i in range(len(specific_h))]\n",
    "    print(general_h)\n",
    "\n",
    "    for i, h in enumerate(d):\n",
    "        if target[i] == \"yes\":\n",
    "            for x in range(len(specific_h)):\n",
    "                if h[x] != specific_h[x]:\n",
    "                    specific_h[x] = '?'\n",
    "                    general_h[x][x] = '?'\n",
    "        if target[i] == \"no\":\n",
    "            for x in range(len(specific_h)):\n",
    "                if h[x] != specific_h[x]:\n",
    "                    general_h[x][x] = specific_h[x]\n",
    "                else:\n",
    "                    general_h[x][x] = '?'\n",
    "\n",
    "        print(\"Steps of Candidate Elimination Algorithm\", i + 1)\n",
    "        print(specific_h)\n",
    "        print(general_h)\n",
    "\n",
    "    # Remove all fully general hypotheses\n",
    "    general_h = [h for h in general_h if h != ['?', '?', '?', '?']]\n",
    "    return specific_h, general_h\n",
    "\n",
    "\n",
    "# Example usage\n",
    "s_final, g_final = learn(d, target)\n",
    "print(\"Final Specific_h:\", s_final, sep=\"\\n\")\n",
    "print(\"Final General_h:\", g_final, sep=\"\\n\")"
   ]
  }
 ],
 "metadata": {
  "kernelspec": {
   "display_name": "Python 3 (ipykernel)",
   "language": "python",
   "name": "python3"
  },
  "language_info": {
   "codemirror_mode": {
    "name": "ipython",
    "version": 3
   },
   "file_extension": ".py",
   "mimetype": "text/x-python",
   "name": "python",
   "nbconvert_exporter": "python",
   "pygments_lexer": "ipython3",
   "version": "3.11.7"
  }
 },
 "nbformat": 4,
 "nbformat_minor": 5
}
